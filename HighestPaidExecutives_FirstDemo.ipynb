{
 "cells": [
  {
   "cell_type": "markdown",
   "metadata": {
    "deletable": true,
    "editable": true
   },
   "source": [
    "# Highest Paid Executives Data Analysis Demo "
   ]
  },
  {
   "cell_type": "markdown",
   "metadata": {
    "deletable": true,
    "editable": true
   },
   "source": [
    "##### Install and Import any dependencies needed"
   ]
  },
  {
   "cell_type": "code",
   "execution_count": 10,
   "metadata": {
    "collapsed": true,
    "deletable": true,
    "editable": true
   },
   "outputs": [],
   "source": [
    "import pandas as pd "
   ]
  },
  {
   "cell_type": "markdown",
   "metadata": {
    "deletable": true,
    "editable": true
   },
   "source": [
    "##### Read in a dataset (table) with pandas"
   ]
  },
  {
   "cell_type": "code",
   "execution_count": 21,
   "metadata": {
    "collapsed": true
   },
   "outputs": [],
   "source": [
    "executives = pd.read_excel ('Men v. Women list of highest-paid executives  copy.xlsx')\n"
   ]
  },
  {
   "cell_type": "code",
   "execution_count": null,
   "metadata": {
    "collapsed": true
   },
   "outputs": [],
   "source": []
  },
  {
   "cell_type": "markdown",
   "metadata": {
    "deletable": true,
    "editable": true
   },
   "source": [
    "##### Call the dataframe (to view the content) -- demo head() and tail() too"
   ]
  },
  {
   "cell_type": "code",
   "execution_count": 22,
   "metadata": {
    "collapsed": true,
    "deletable": true,
    "editable": true
   },
   "outputs": [
    {
     "data": {
      "text/html": [
       "<div>\n",
       "<style scoped>\n",
       "    .dataframe tbody tr th:only-of-type {\n",
       "        vertical-align: middle;\n",
       "    }\n",
       "\n",
       "    .dataframe tbody tr th {\n",
       "        vertical-align: top;\n",
       "    }\n",
       "\n",
       "    .dataframe thead th {\n",
       "        text-align: right;\n",
       "    }\n",
       "</style>\n",
       "<table border=\"1\" class=\"dataframe\">\n",
       "  <thead>\n",
       "    <tr style=\"text-align: right;\">\n",
       "      <th></th>\n",
       "      <th>Names (Men)</th>\n",
       "      <th>Company</th>\n",
       "      <th>Title</th>\n",
       "      <th>Salary</th>\n",
       "      <th>Unnamed: 4</th>\n",
       "      <th>Names (Women)</th>\n",
       "      <th>Company</th>\n",
       "      <th>Title.1</th>\n",
       "      <th>Salary.1</th>\n",
       "      <th>Unnamed: 9</th>\n",
       "      <th>Differency in Pay</th>\n",
       "    </tr>\n",
       "  </thead>\n",
       "  <tbody>\n",
       "    <tr>\n",
       "      <th>0</th>\n",
       "      <td>Marc Lore</td>\n",
       "      <td>Walmart</td>\n",
       "      <td>CEO, U.S. E-Commerce</td>\n",
       "      <td>243876539.0</td>\n",
       "      <td>NaN</td>\n",
       "      <td>Safra Catz</td>\n",
       "      <td>Oracle</td>\n",
       "      <td>CEO</td>\n",
       "      <td>40729965.0</td>\n",
       "      <td>NaN</td>\n",
       "      <td>203146574</td>\n",
       "    </tr>\n",
       "    <tr>\n",
       "      <th>1</th>\n",
       "      <td>Sundar Pichai</td>\n",
       "      <td>Google</td>\n",
       "      <td>CEO</td>\n",
       "      <td>199718200.0</td>\n",
       "      <td>NaN</td>\n",
       "      <td>Ruth Porat</td>\n",
       "      <td>Alphabet</td>\n",
       "      <td>CFO</td>\n",
       "      <td>39074129.0</td>\n",
       "      <td>NaN</td>\n",
       "      <td>160644071</td>\n",
       "    </tr>\n",
       "    <tr>\n",
       "      <th>2</th>\n",
       "      <td>Thomas Rutledge</td>\n",
       "      <td>Charter Communications</td>\n",
       "      <td>CEO</td>\n",
       "      <td>98012344.0</td>\n",
       "      <td>NaN</td>\n",
       "      <td>Meg Whitman</td>\n",
       "      <td>Hewlett Packard Enterprise</td>\n",
       "      <td>CEO</td>\n",
       "      <td>32935138.0</td>\n",
       "      <td>NaN</td>\n",
       "      <td>65077206</td>\n",
       "    </tr>\n",
       "    <tr>\n",
       "      <th>3</th>\n",
       "      <td>John Weinberg</td>\n",
       "      <td>Evercore</td>\n",
       "      <td>Executive Chairman</td>\n",
       "      <td>83312974.0</td>\n",
       "      <td>NaN</td>\n",
       "      <td>Ginni Rometty</td>\n",
       "      <td>IBM</td>\n",
       "      <td>CEO</td>\n",
       "      <td>32307434.0</td>\n",
       "      <td>NaN</td>\n",
       "      <td>51005540</td>\n",
       "    </tr>\n",
       "    <tr>\n",
       "      <th>4</th>\n",
       "      <td>Leslie Moonves</td>\n",
       "      <td>CBS</td>\n",
       "      <td>CEO</td>\n",
       "      <td>68594646.0</td>\n",
       "      <td>NaN</td>\n",
       "      <td>Marissa Mayer</td>\n",
       "      <td>Yahoo</td>\n",
       "      <td>CEO</td>\n",
       "      <td>27410159.0</td>\n",
       "      <td>NaN</td>\n",
       "      <td>41184487</td>\n",
       "    </tr>\n",
       "  </tbody>\n",
       "</table>\n",
       "</div>"
      ],
      "text/plain": [
       "       Names (Men)                Company                  Title       Salary  \\\n",
       "0        Marc Lore                 Walmart  CEO, U.S. E-Commerce  243876539.0   \n",
       "1    Sundar Pichai                  Google                   CEO  199718200.0   \n",
       "2  Thomas Rutledge  Charter Communications                   CEO   98012344.0   \n",
       "3    John Weinberg               Evercore     Executive Chairman   83312974.0   \n",
       "4   Leslie Moonves                    CBS                    CEO   68594646.0   \n",
       "\n",
       "   Unnamed: 4  Names (Women)                     Company Title.1    Salary.1  \\\n",
       "0         NaN     Safra Catz                      Oracle     CEO  40729965.0   \n",
       "1         NaN     Ruth Porat                   Alphabet      CFO  39074129.0   \n",
       "2         NaN    Meg Whitman  Hewlett Packard Enterprise     CEO  32935138.0   \n",
       "3         NaN  Ginni Rometty                         IBM     CEO  32307434.0   \n",
       "4         NaN  Marissa Mayer                       Yahoo     CEO  27410159.0   \n",
       "\n",
       "   Unnamed: 9  Differency in Pay  \n",
       "0         NaN          203146574  \n",
       "1         NaN          160644071  \n",
       "2         NaN           65077206  \n",
       "3         NaN           51005540  \n",
       "4         NaN           41184487  "
      ]
     },
     "execution_count": 22,
     "metadata": {},
     "output_type": "execute_result"
    }
   ],
   "source": [
    "executives.head()"
   ]
  },
  {
   "cell_type": "code",
   "execution_count": 23,
   "metadata": {
    "collapsed": true,
    "deletable": true,
    "editable": true
   },
   "outputs": [
    {
     "data": {
      "text/html": [
       "<div>\n",
       "<style scoped>\n",
       "    .dataframe tbody tr th:only-of-type {\n",
       "        vertical-align: middle;\n",
       "    }\n",
       "\n",
       "    .dataframe tbody tr th {\n",
       "        vertical-align: top;\n",
       "    }\n",
       "\n",
       "    .dataframe thead th {\n",
       "        text-align: right;\n",
       "    }\n",
       "</style>\n",
       "<table border=\"1\" class=\"dataframe\">\n",
       "  <thead>\n",
       "    <tr style=\"text-align: right;\">\n",
       "      <th></th>\n",
       "      <th>Names (Men)</th>\n",
       "      <th>Company</th>\n",
       "      <th>Title</th>\n",
       "      <th>Salary</th>\n",
       "      <th>Unnamed: 4</th>\n",
       "      <th>Names (Women)</th>\n",
       "      <th>Company</th>\n",
       "      <th>Title.1</th>\n",
       "      <th>Salary.1</th>\n",
       "      <th>Unnamed: 9</th>\n",
       "      <th>Differency in Pay</th>\n",
       "    </tr>\n",
       "  </thead>\n",
       "  <tbody>\n",
       "    <tr>\n",
       "      <th>12</th>\n",
       "      <td>Thomas Kurian</td>\n",
       "      <td>Oracle</td>\n",
       "      <td>President, Product</td>\n",
       "      <td>35760008.0</td>\n",
       "      <td>NaN</td>\n",
       "      <td>Gillian Tans</td>\n",
       "      <td>Booking.com</td>\n",
       "      <td>CEO</td>\n",
       "      <td>17103279.0</td>\n",
       "      <td>NaN</td>\n",
       "      <td>18656729</td>\n",
       "    </tr>\n",
       "    <tr>\n",
       "      <th>13</th>\n",
       "      <td>Andrew Jassy</td>\n",
       "      <td>Amazon</td>\n",
       "      <td>CEO, Web Services</td>\n",
       "      <td>35609644.0</td>\n",
       "      <td>NaN</td>\n",
       "      <td>Irene Rosenfeld</td>\n",
       "      <td>Mondelez International</td>\n",
       "      <td>CEO</td>\n",
       "      <td>15840326.0</td>\n",
       "      <td>NaN</td>\n",
       "      <td>19769318</td>\n",
       "    </tr>\n",
       "    <tr>\n",
       "      <th>14</th>\n",
       "      <td>Jon Feltheimer</td>\n",
       "      <td>Lions Gate Entertainment</td>\n",
       "      <td>CEO</td>\n",
       "      <td>35336616.0</td>\n",
       "      <td>NaN</td>\n",
       "      <td>Jane Elfers</td>\n",
       "      <td>Childrens Place</td>\n",
       "      <td>CEO</td>\n",
       "      <td>15691170.0</td>\n",
       "      <td>NaN</td>\n",
       "      <td>19645446</td>\n",
       "    </tr>\n",
       "    <tr>\n",
       "      <th>15</th>\n",
       "      <td>NaN</td>\n",
       "      <td>NaN</td>\n",
       "      <td>NaN</td>\n",
       "      <td>NaN</td>\n",
       "      <td>NaN</td>\n",
       "      <td>NaN</td>\n",
       "      <td>NaN</td>\n",
       "      <td>NaN</td>\n",
       "      <td>NaN</td>\n",
       "      <td>NaN</td>\n",
       "      <td>0</td>\n",
       "    </tr>\n",
       "    <tr>\n",
       "      <th>16</th>\n",
       "      <td>NaN</td>\n",
       "      <td>NaN</td>\n",
       "      <td>NaN</td>\n",
       "      <td>NaN</td>\n",
       "      <td>NaN</td>\n",
       "      <td>NaN</td>\n",
       "      <td>NaN</td>\n",
       "      <td>NaN</td>\n",
       "      <td>NaN</td>\n",
       "      <td>NaN</td>\n",
       "      <td>0</td>\n",
       "    </tr>\n",
       "  </tbody>\n",
       "</table>\n",
       "</div>"
      ],
      "text/plain": [
       "       Names (Men)                   Company                Title      Salary  \\\n",
       "12   Thomas Kurian                     Oracle  President, Product  35760008.0   \n",
       "13    Andrew Jassy                     Amazon   CEO, Web Services  35609644.0   \n",
       "14  Jon Feltheimer  Lions Gate Entertainment                  CEO  35336616.0   \n",
       "15             NaN                        NaN                 NaN         NaN   \n",
       "16             NaN                        NaN                 NaN         NaN   \n",
       "\n",
       "    Unnamed: 4    Names (Women)                 Company Title.1    Salary.1  \\\n",
       "12         NaN     Gillian Tans             Booking.com     CEO  17103279.0   \n",
       "13         NaN  Irene Rosenfeld  Mondelez International     CEO  15840326.0   \n",
       "14         NaN      Jane Elfers         Childrens Place     CEO  15691170.0   \n",
       "15         NaN              NaN                     NaN     NaN         NaN   \n",
       "16         NaN              NaN                     NaN     NaN         NaN   \n",
       "\n",
       "    Unnamed: 9  Differency in Pay  \n",
       "12         NaN           18656729  \n",
       "13         NaN           19769318  \n",
       "14         NaN           19645446  \n",
       "15         NaN                  0  \n",
       "16         NaN                  0  "
      ]
     },
     "execution_count": 23,
     "metadata": {},
     "output_type": "execute_result"
    }
   ],
   "source": [
    "executives.tail()"
   ]
  },
  {
   "cell_type": "code",
   "execution_count": null,
   "metadata": {
    "collapsed": true,
    "deletable": true,
    "editable": true
   },
   "outputs": [],
   "source": []
  },
  {
   "cell_type": "markdown",
   "metadata": {
    "deletable": true,
    "editable": true
   },
   "source": [
    "##### Run a few descriptive statistics on the dataframe -- Get the number of columns and rows -- demo shape and info()"
   ]
  },
  {
   "cell_type": "code",
   "execution_count": 24,
   "metadata": {
    "collapsed": true
   },
   "outputs": [
    {
     "data": {
      "text/plain": [
       "(17, 11)"
      ]
     },
     "execution_count": 24,
     "metadata": {},
     "output_type": "execute_result"
    }
   ],
   "source": [
    "executives.shape"
   ]
  },
  {
   "cell_type": "code",
   "execution_count": 25,
   "metadata": {
    "collapsed": true
   },
   "outputs": [
    {
     "name": "stdout",
     "output_type": "stream",
     "text": [
      "<class 'pandas.core.frame.DataFrame'>\n",
      "RangeIndex: 17 entries, 0 to 16\n",
      "Data columns (total 11 columns):\n",
      "Names (Men)          15 non-null object\n",
      "Company              15 non-null object\n",
      "Title                15 non-null object\n",
      "Salary               15 non-null float64\n",
      "Unnamed: 4           0 non-null float64\n",
      "Names (Women)        15 non-null object\n",
      "Company              15 non-null object\n",
      "Title.1              15 non-null object\n",
      "Salary.1             15 non-null float64\n",
      "Unnamed: 9           0 non-null float64\n",
      "Differency in Pay    17 non-null int64\n",
      "dtypes: float64(4), int64(1), object(6)\n",
      "memory usage: 1.5+ KB\n"
     ]
    }
   ],
   "source": [
    "executives.info()"
   ]
  },
  {
   "cell_type": "markdown",
   "metadata": {
    "deletable": true,
    "editable": true
   },
   "source": [
    "##### Try using the describe method on the dataframe"
   ]
  },
  {
   "cell_type": "code",
   "execution_count": 26,
   "metadata": {
    "collapsed": true
   },
   "outputs": [
    {
     "data": {
      "text/html": [
       "<div>\n",
       "<style scoped>\n",
       "    .dataframe tbody tr th:only-of-type {\n",
       "        vertical-align: middle;\n",
       "    }\n",
       "\n",
       "    .dataframe tbody tr th {\n",
       "        vertical-align: top;\n",
       "    }\n",
       "\n",
       "    .dataframe thead th {\n",
       "        text-align: right;\n",
       "    }\n",
       "</style>\n",
       "<table border=\"1\" class=\"dataframe\">\n",
       "  <thead>\n",
       "    <tr style=\"text-align: right;\">\n",
       "      <th></th>\n",
       "      <th>Salary</th>\n",
       "      <th>Unnamed: 4</th>\n",
       "      <th>Salary.1</th>\n",
       "      <th>Unnamed: 9</th>\n",
       "      <th>Differency in Pay</th>\n",
       "    </tr>\n",
       "  </thead>\n",
       "  <tbody>\n",
       "    <tr>\n",
       "      <th>count</th>\n",
       "      <td>1.500000e+01</td>\n",
       "      <td>0.0</td>\n",
       "      <td>1.500000e+01</td>\n",
       "      <td>0.0</td>\n",
       "      <td>1.700000e+01</td>\n",
       "    </tr>\n",
       "    <tr>\n",
       "      <th>mean</th>\n",
       "      <td>7.380501e+07</td>\n",
       "      <td>NaN</td>\n",
       "      <td>2.500919e+07</td>\n",
       "      <td>NaN</td>\n",
       "      <td>4.305514e+07</td>\n",
       "    </tr>\n",
       "    <tr>\n",
       "      <th>std</th>\n",
       "      <td>6.358209e+07</td>\n",
       "      <td>NaN</td>\n",
       "      <td>8.022632e+06</td>\n",
       "      <td>NaN</td>\n",
       "      <td>5.524120e+07</td>\n",
       "    </tr>\n",
       "    <tr>\n",
       "      <th>min</th>\n",
       "      <td>3.533662e+07</td>\n",
       "      <td>NaN</td>\n",
       "      <td>1.569117e+07</td>\n",
       "      <td>NaN</td>\n",
       "      <td>0.000000e+00</td>\n",
       "    </tr>\n",
       "    <tr>\n",
       "      <th>25%</th>\n",
       "      <td>3.735137e+07</td>\n",
       "      <td>NaN</td>\n",
       "      <td>1.891106e+07</td>\n",
       "      <td>NaN</td>\n",
       "      <td>1.858834e+07</td>\n",
       "    </tr>\n",
       "    <tr>\n",
       "      <th>50%</th>\n",
       "      <td>4.127221e+07</td>\n",
       "      <td>NaN</td>\n",
       "      <td>2.290289e+07</td>\n",
       "      <td>NaN</td>\n",
       "      <td>1.964545e+07</td>\n",
       "    </tr>\n",
       "    <tr>\n",
       "      <th>75%</th>\n",
       "      <td>7.595381e+07</td>\n",
       "      <td>NaN</td>\n",
       "      <td>2.985880e+07</td>\n",
       "      <td>NaN</td>\n",
       "      <td>4.118449e+07</td>\n",
       "    </tr>\n",
       "    <tr>\n",
       "      <th>max</th>\n",
       "      <td>2.438765e+08</td>\n",
       "      <td>NaN</td>\n",
       "      <td>4.072996e+07</td>\n",
       "      <td>NaN</td>\n",
       "      <td>2.031466e+08</td>\n",
       "    </tr>\n",
       "  </tbody>\n",
       "</table>\n",
       "</div>"
      ],
      "text/plain": [
       "             Salary  Unnamed: 4      Salary.1  Unnamed: 9  Differency in Pay\n",
       "count  1.500000e+01         0.0  1.500000e+01         0.0       1.700000e+01\n",
       "mean   7.380501e+07         NaN  2.500919e+07         NaN       4.305514e+07\n",
       "std    6.358209e+07         NaN  8.022632e+06         NaN       5.524120e+07\n",
       "min    3.533662e+07         NaN  1.569117e+07         NaN       0.000000e+00\n",
       "25%    3.735137e+07         NaN  1.891106e+07         NaN       1.858834e+07\n",
       "50%    4.127221e+07         NaN  2.290289e+07         NaN       1.964545e+07\n",
       "75%    7.595381e+07         NaN  2.985880e+07         NaN       4.118449e+07\n",
       "max    2.438765e+08         NaN  4.072996e+07         NaN       2.031466e+08"
      ]
     },
     "execution_count": 26,
     "metadata": {},
     "output_type": "execute_result"
    }
   ],
   "source": [
    "executives.describe()"
   ]
  },
  {
   "cell_type": "code",
   "execution_count": null,
   "metadata": {
    "collapsed": true
   },
   "outputs": [],
   "source": []
  },
  {
   "cell_type": "markdown",
   "metadata": {
    "deletable": true,
    "editable": true
   },
   "source": [
    "##### drop any values that are not important in the dataframe -- drop(columns = []) AND drop(index = [])"
   ]
  },
  {
   "cell_type": "code",
   "execution_count": 105,
   "metadata": {
    "collapsed": true
   },
   "outputs": [],
   "source": [
    "#executives.drop(columns=['Unnamed; 4', 'Unnamed; 9'], inplace = True)"
   ]
  },
  {
   "cell_type": "code",
   "execution_count": 56,
   "metadata": {
    "collapsed": true
   },
   "outputs": [],
   "source": [
    "#executive.head()"
   ]
  },
  {
   "cell_type": "code",
   "execution_count": 57,
   "metadata": {
    "collapsed": true
   },
   "outputs": [],
   "source": [
    "#executives "
   ]
  },
  {
   "cell_type": "code",
   "execution_count": 103,
   "metadata": {
    "collapsed": true
   },
   "outputs": [],
   "source": [
    "#executives = executives.drop(index=[15,16])"
   ]
  },
  {
   "cell_type": "markdown",
   "metadata": {
    "deletable": true,
    "editable": true
   },
   "source": [
    "##### Check your work -- call the dataframe"
   ]
  },
  {
   "cell_type": "code",
   "execution_count": 54,
   "metadata": {
    "collapsed": true
   },
   "outputs": [],
   "source": [
    "#executives.sort_values('Difference in Pay', ascending = False)"
   ]
  },
  {
   "cell_type": "code",
   "execution_count": null,
   "metadata": {
    "collapsed": true,
    "deletable": true,
    "editable": true
   },
   "outputs": [],
   "source": []
  },
  {
   "cell_type": "markdown",
   "metadata": {
    "deletable": true,
    "editable": true
   },
   "source": [
    "##### sort the dataframe by the 'Difference in Pay' column"
   ]
  },
  {
   "cell_type": "code",
   "execution_count": null,
   "metadata": {
    "collapsed": true
   },
   "outputs": [],
   "source": []
  },
  {
   "cell_type": "code",
   "execution_count": null,
   "metadata": {
    "collapsed": true,
    "deletable": true,
    "editable": true
   },
   "outputs": [],
   "source": []
  },
  {
   "cell_type": "markdown",
   "metadata": {
    "deletable": true,
    "editable": true
   },
   "source": [
    "##### Create two new dataframes - one for male executives and one for female executives"
   ]
  },
  {
   "cell_type": "code",
   "execution_count": 49,
   "metadata": {
    "collapsed": true,
    "deletable": true,
    "editable": true
   },
   "outputs": [],
   "source": [
    "#Start with building a new dataframe called Female_executives"
   ]
  },
  {
   "cell_type": "code",
   "execution_count": 85,
   "metadata": {
    "collapsed": true
   },
   "outputs": [
    {
     "data": {
      "text/html": [
       "<div>\n",
       "<style scoped>\n",
       "    .dataframe tbody tr th:only-of-type {\n",
       "        vertical-align: middle;\n",
       "    }\n",
       "\n",
       "    .dataframe tbody tr th {\n",
       "        vertical-align: top;\n",
       "    }\n",
       "\n",
       "    .dataframe thead th {\n",
       "        text-align: right;\n",
       "    }\n",
       "</style>\n",
       "<table border=\"1\" class=\"dataframe\">\n",
       "  <thead>\n",
       "    <tr style=\"text-align: right;\">\n",
       "      <th></th>\n",
       "      <th>Names (Women)</th>\n",
       "      <th>Company</th>\n",
       "      <th>Title</th>\n",
       "    </tr>\n",
       "  </thead>\n",
       "  <tbody>\n",
       "    <tr>\n",
       "      <th>0</th>\n",
       "      <td>Safra Catz</td>\n",
       "      <td>Oracle</td>\n",
       "      <td>CEO, U.S. E-Commerce</td>\n",
       "    </tr>\n",
       "    <tr>\n",
       "      <th>1</th>\n",
       "      <td>Ruth Porat</td>\n",
       "      <td>Alphabet</td>\n",
       "      <td>CEO</td>\n",
       "    </tr>\n",
       "    <tr>\n",
       "      <th>2</th>\n",
       "      <td>Meg Whitman</td>\n",
       "      <td>Hewlett Packard Enterprise</td>\n",
       "      <td>CEO</td>\n",
       "    </tr>\n",
       "    <tr>\n",
       "      <th>3</th>\n",
       "      <td>Ginni Rometty</td>\n",
       "      <td>IBM</td>\n",
       "      <td>Executive Chairman</td>\n",
       "    </tr>\n",
       "    <tr>\n",
       "      <th>4</th>\n",
       "      <td>Marissa Mayer</td>\n",
       "      <td>Yahoo</td>\n",
       "      <td>CEO</td>\n",
       "    </tr>\n",
       "    <tr>\n",
       "      <th>5</th>\n",
       "      <td>Indra Nooyi</td>\n",
       "      <td>Pepsico</td>\n",
       "      <td>Executive Chairman</td>\n",
       "    </tr>\n",
       "    <tr>\n",
       "      <th>6</th>\n",
       "      <td>Sheryl Sandberg</td>\n",
       "      <td>Facebook</td>\n",
       "      <td>COO</td>\n",
       "    </tr>\n",
       "    <tr>\n",
       "      <th>7</th>\n",
       "      <td>Angela Ahrendts</td>\n",
       "      <td>Apple</td>\n",
       "      <td>CTO</td>\n",
       "    </tr>\n",
       "    <tr>\n",
       "      <th>8</th>\n",
       "      <td>Mary Barra</td>\n",
       "      <td>General Motors</td>\n",
       "      <td>CEO</td>\n",
       "    </tr>\n",
       "    <tr>\n",
       "      <th>9</th>\n",
       "      <td>Phebe Novakovic</td>\n",
       "      <td>General Dynamics</td>\n",
       "      <td>CEO</td>\n",
       "    </tr>\n",
       "    <tr>\n",
       "      <th>10</th>\n",
       "      <td>Marillyn Hewson</td>\n",
       "      <td>Lockheed Martin</td>\n",
       "      <td>CEO</td>\n",
       "    </tr>\n",
       "    <tr>\n",
       "      <th>11</th>\n",
       "      <td>Mary Erdoes</td>\n",
       "      <td>JPMorgan Chase</td>\n",
       "      <td>CEO</td>\n",
       "    </tr>\n",
       "    <tr>\n",
       "      <th>12</th>\n",
       "      <td>Gillian Tans</td>\n",
       "      <td>Booking.com</td>\n",
       "      <td>President, Product</td>\n",
       "    </tr>\n",
       "    <tr>\n",
       "      <th>13</th>\n",
       "      <td>Irene Rosenfeld</td>\n",
       "      <td>Mondelez International</td>\n",
       "      <td>CEO, Web Services</td>\n",
       "    </tr>\n",
       "    <tr>\n",
       "      <th>14</th>\n",
       "      <td>Jane Elfers</td>\n",
       "      <td>Childrens Place</td>\n",
       "      <td>CEO</td>\n",
       "    </tr>\n",
       "    <tr>\n",
       "      <th>15</th>\n",
       "      <td>NaN</td>\n",
       "      <td>NaN</td>\n",
       "      <td>NaN</td>\n",
       "    </tr>\n",
       "    <tr>\n",
       "      <th>16</th>\n",
       "      <td>NaN</td>\n",
       "      <td>NaN</td>\n",
       "      <td>NaN</td>\n",
       "    </tr>\n",
       "  </tbody>\n",
       "</table>\n",
       "</div>"
      ],
      "text/plain": [
       "      Names (Women)                     Company                 Title\n",
       "0        Safra Catz                      Oracle  CEO, U.S. E-Commerce\n",
       "1        Ruth Porat                   Alphabet                    CEO\n",
       "2       Meg Whitman  Hewlett Packard Enterprise                   CEO\n",
       "3     Ginni Rometty                         IBM    Executive Chairman\n",
       "4     Marissa Mayer                       Yahoo                   CEO\n",
       "5       Indra Nooyi                     Pepsico    Executive Chairman\n",
       "6   Sheryl Sandberg                    Facebook                   COO\n",
       "7   Angela Ahrendts                       Apple                   CTO\n",
       "8        Mary Barra              General Motors                   CEO\n",
       "9   Phebe Novakovic            General Dynamics                   CEO\n",
       "10  Marillyn Hewson             Lockheed Martin                   CEO\n",
       "11      Mary Erdoes              JPMorgan Chase                   CEO\n",
       "12     Gillian Tans                 Booking.com    President, Product\n",
       "13  Irene Rosenfeld      Mondelez International     CEO, Web Services\n",
       "14      Jane Elfers             Childrens Place                   CEO\n",
       "15              NaN                         NaN                   NaN\n",
       "16              NaN                         NaN                   NaN"
      ]
     },
     "execution_count": 85,
     "metadata": {},
     "output_type": "execute_result"
    }
   ],
   "source": [
    "pd.DataFrame(data = executives, columns = ['Names (Women)','Company', 'Title'])"
   ]
  },
  {
   "cell_type": "code",
   "execution_count": null,
   "metadata": {
    "collapsed": true,
    "deletable": true,
    "editable": true
   },
   "outputs": [],
   "source": []
  },
  {
   "cell_type": "code",
   "execution_count": 86,
   "metadata": {
    "collapsed": true,
    "deletable": true,
    "editable": true
   },
   "outputs": [],
   "source": [
    "#Call Female_executives"
   ]
  },
  {
   "cell_type": "code",
   "execution_count": 108,
   "metadata": {
    "collapsed": true
   },
   "outputs": [],
   "source": [
    "female_executives = pd.DataFrame(data = executives, columns = ['Names (Women)','Company', 'Title']) "
   ]
  },
  {
   "cell_type": "code",
   "execution_count": null,
   "metadata": {
    "collapsed": true,
    "deletable": true,
    "editable": true
   },
   "outputs": [],
   "source": []
  },
  {
   "cell_type": "code",
   "execution_count": 72,
   "metadata": {
    "collapsed": true,
    "deletable": true,
    "editable": true
   },
   "outputs": [],
   "source": [
    "#Build another dataframe called Male_executives"
   ]
  },
  {
   "cell_type": "code",
   "execution_count": 89,
   "metadata": {
    "collapsed": true
   },
   "outputs": [
    {
     "data": {
      "text/html": [
       "<div>\n",
       "<style scoped>\n",
       "    .dataframe tbody tr th:only-of-type {\n",
       "        vertical-align: middle;\n",
       "    }\n",
       "\n",
       "    .dataframe tbody tr th {\n",
       "        vertical-align: top;\n",
       "    }\n",
       "\n",
       "    .dataframe thead th {\n",
       "        text-align: right;\n",
       "    }\n",
       "</style>\n",
       "<table border=\"1\" class=\"dataframe\">\n",
       "  <thead>\n",
       "    <tr style=\"text-align: right;\">\n",
       "      <th></th>\n",
       "      <th>Names (Men)</th>\n",
       "      <th>Company</th>\n",
       "      <th>Title</th>\n",
       "    </tr>\n",
       "  </thead>\n",
       "  <tbody>\n",
       "    <tr>\n",
       "      <th>0</th>\n",
       "      <td>Marc Lore</td>\n",
       "      <td>Oracle</td>\n",
       "      <td>CEO, U.S. E-Commerce</td>\n",
       "    </tr>\n",
       "    <tr>\n",
       "      <th>1</th>\n",
       "      <td>Sundar Pichai</td>\n",
       "      <td>Alphabet</td>\n",
       "      <td>CEO</td>\n",
       "    </tr>\n",
       "    <tr>\n",
       "      <th>2</th>\n",
       "      <td>Thomas Rutledge</td>\n",
       "      <td>Hewlett Packard Enterprise</td>\n",
       "      <td>CEO</td>\n",
       "    </tr>\n",
       "    <tr>\n",
       "      <th>3</th>\n",
       "      <td>John Weinberg</td>\n",
       "      <td>IBM</td>\n",
       "      <td>Executive Chairman</td>\n",
       "    </tr>\n",
       "    <tr>\n",
       "      <th>4</th>\n",
       "      <td>Leslie Moonves</td>\n",
       "      <td>Yahoo</td>\n",
       "      <td>CEO</td>\n",
       "    </tr>\n",
       "    <tr>\n",
       "      <th>5</th>\n",
       "      <td>Dean Metropoulos</td>\n",
       "      <td>Pepsico</td>\n",
       "      <td>Executive Chairman</td>\n",
       "    </tr>\n",
       "    <tr>\n",
       "      <th>6</th>\n",
       "      <td>John Bickham</td>\n",
       "      <td>Facebook</td>\n",
       "      <td>COO</td>\n",
       "    </tr>\n",
       "    <tr>\n",
       "      <th>7</th>\n",
       "      <td>Lawrence Ellison</td>\n",
       "      <td>Apple</td>\n",
       "      <td>CTO</td>\n",
       "    </tr>\n",
       "    <tr>\n",
       "      <th>8</th>\n",
       "      <td>Bob Iger</td>\n",
       "      <td>General Motors</td>\n",
       "      <td>CEO</td>\n",
       "    </tr>\n",
       "    <tr>\n",
       "      <th>9</th>\n",
       "      <td>Mark Hurd</td>\n",
       "      <td>General Dynamics</td>\n",
       "      <td>CEO</td>\n",
       "    </tr>\n",
       "    <tr>\n",
       "      <th>10</th>\n",
       "      <td>Stephen Burke</td>\n",
       "      <td>Lockheed Martin</td>\n",
       "      <td>CEO</td>\n",
       "    </tr>\n",
       "    <tr>\n",
       "      <th>11</th>\n",
       "      <td>David Zaslav</td>\n",
       "      <td>JPMorgan Chase</td>\n",
       "      <td>CEO</td>\n",
       "    </tr>\n",
       "    <tr>\n",
       "      <th>12</th>\n",
       "      <td>Thomas Kurian</td>\n",
       "      <td>Booking.com</td>\n",
       "      <td>President, Product</td>\n",
       "    </tr>\n",
       "    <tr>\n",
       "      <th>13</th>\n",
       "      <td>Andrew Jassy</td>\n",
       "      <td>Mondelez International</td>\n",
       "      <td>CEO, Web Services</td>\n",
       "    </tr>\n",
       "    <tr>\n",
       "      <th>14</th>\n",
       "      <td>Jon Feltheimer</td>\n",
       "      <td>Childrens Place</td>\n",
       "      <td>CEO</td>\n",
       "    </tr>\n",
       "    <tr>\n",
       "      <th>15</th>\n",
       "      <td>NaN</td>\n",
       "      <td>NaN</td>\n",
       "      <td>NaN</td>\n",
       "    </tr>\n",
       "    <tr>\n",
       "      <th>16</th>\n",
       "      <td>NaN</td>\n",
       "      <td>NaN</td>\n",
       "      <td>NaN</td>\n",
       "    </tr>\n",
       "  </tbody>\n",
       "</table>\n",
       "</div>"
      ],
      "text/plain": [
       "         Names (Men)                     Company                 Title\n",
       "0          Marc Lore                      Oracle  CEO, U.S. E-Commerce\n",
       "1      Sundar Pichai                   Alphabet                    CEO\n",
       "2    Thomas Rutledge  Hewlett Packard Enterprise                   CEO\n",
       "3      John Weinberg                         IBM    Executive Chairman\n",
       "4     Leslie Moonves                       Yahoo                   CEO\n",
       "5   Dean Metropoulos                     Pepsico    Executive Chairman\n",
       "6       John Bickham                    Facebook                   COO\n",
       "7   Lawrence Ellison                       Apple                   CTO\n",
       "8           Bob Iger              General Motors                   CEO\n",
       "9          Mark Hurd            General Dynamics                   CEO\n",
       "10     Stephen Burke             Lockheed Martin                   CEO\n",
       "11      David Zaslav              JPMorgan Chase                   CEO\n",
       "12     Thomas Kurian                 Booking.com    President, Product\n",
       "13      Andrew Jassy      Mondelez International     CEO, Web Services\n",
       "14    Jon Feltheimer             Childrens Place                   CEO\n",
       "15               NaN                         NaN                   NaN\n",
       "16               NaN                         NaN                   NaN"
      ]
     },
     "execution_count": 89,
     "metadata": {},
     "output_type": "execute_result"
    }
   ],
   "source": [
    "pd.DataFrame(data = executives, columns = ['Names (Men)','Company', 'Title'])"
   ]
  },
  {
   "cell_type": "code",
   "execution_count": null,
   "metadata": {
    "collapsed": true,
    "deletable": true,
    "editable": true
   },
   "outputs": [],
   "source": []
  },
  {
   "cell_type": "code",
   "execution_count": 73,
   "metadata": {
    "collapsed": true,
    "deletable": true,
    "editable": true
   },
   "outputs": [],
   "source": [
    "#Call Male_executives"
   ]
  },
  {
   "cell_type": "code",
   "execution_count": 99,
   "metadata": {
    "collapsed": true
   },
   "outputs": [],
   "source": [
    "male_executives = pd.DataFrame(data = executives, columns = ['Names(Men)','Company', 'Title']) "
   ]
  },
  {
   "cell_type": "code",
   "execution_count": null,
   "metadata": {
    "collapsed": true,
    "deletable": true,
    "editable": true
   },
   "outputs": [],
   "source": []
  },
  {
   "cell_type": "code",
   "execution_count": 100,
   "metadata": {
    "collapsed": true,
    "deletable": true,
    "editable": true
   },
   "outputs": [],
   "source": [
    "##### Run the describe method on each of the new dataframes"
   ]
  },
  {
   "cell_type": "code",
   "execution_count": 75,
   "metadata": {
    "collapsed": true,
    "deletable": true,
    "editable": true
   },
   "outputs": [
    {
     "data": {
      "text/html": [
       "<div>\n",
       "<style scoped>\n",
       "    .dataframe tbody tr th:only-of-type {\n",
       "        vertical-align: middle;\n",
       "    }\n",
       "\n",
       "    .dataframe tbody tr th {\n",
       "        vertical-align: top;\n",
       "    }\n",
       "\n",
       "    .dataframe thead th {\n",
       "        text-align: right;\n",
       "    }\n",
       "</style>\n",
       "<table border=\"1\" class=\"dataframe\">\n",
       "  <thead>\n",
       "    <tr style=\"text-align: right;\">\n",
       "      <th></th>\n",
       "      <th>Names (Men)</th>\n",
       "      <th>Company</th>\n",
       "      <th>Title</th>\n",
       "    </tr>\n",
       "  </thead>\n",
       "  <tbody>\n",
       "    <tr>\n",
       "      <th>count</th>\n",
       "      <td>15</td>\n",
       "      <td>15</td>\n",
       "      <td>15</td>\n",
       "    </tr>\n",
       "    <tr>\n",
       "      <th>unique</th>\n",
       "      <td>15</td>\n",
       "      <td>15</td>\n",
       "      <td>7</td>\n",
       "    </tr>\n",
       "    <tr>\n",
       "      <th>top</th>\n",
       "      <td>Dean Metropoulos</td>\n",
       "      <td>Facebook</td>\n",
       "      <td>CEO</td>\n",
       "    </tr>\n",
       "    <tr>\n",
       "      <th>freq</th>\n",
       "      <td>1</td>\n",
       "      <td>1</td>\n",
       "      <td>8</td>\n",
       "    </tr>\n",
       "  </tbody>\n",
       "</table>\n",
       "</div>"
      ],
      "text/plain": [
       "             Names (Men)   Company Title\n",
       "count                 15        15    15\n",
       "unique                15        15     7\n",
       "top     Dean Metropoulos  Facebook   CEO\n",
       "freq                   1         1     8"
      ]
     },
     "execution_count": 75,
     "metadata": {},
     "output_type": "execute_result"
    }
   ],
   "source": [
    "male_executives.describe()"
   ]
  },
  {
   "cell_type": "code",
   "execution_count": null,
   "metadata": {
    "collapsed": true,
    "deletable": true,
    "editable": true
   },
   "outputs": [],
   "source": []
  },
  {
   "cell_type": "markdown",
   "metadata": {
    "deletable": true,
    "editable": true
   },
   "source": [
    "##### sort Female_executives and Male_executives dataframes by lowest to highest salary figures"
   ]
  },
  {
   "cell_type": "code",
   "execution_count": 113,
   "metadata": {
    "collapsed": true,
    "deletable": true,
    "editable": true
   },
   "outputs": [],
   "source": [
    "#Sort Female_executives using sort_values()"
   ]
  },
  {
   "cell_type": "code",
   "execution_count": 111,
   "metadata": {
    "collapsed": true
   },
   "outputs": [],
   "source": [
    "#female_executives.sort_values('salary.1', ascending = False)"
   ]
  },
  {
   "cell_type": "code",
   "execution_count": null,
   "metadata": {
    "collapsed": true
   },
   "outputs": [],
   "source": []
  },
  {
   "cell_type": "code",
   "execution_count": 114,
   "metadata": {
    "collapsed": true,
    "deletable": true,
    "editable": true
   },
   "outputs": [],
   "source": [
    "#Call Female_executives"
   ]
  },
  {
   "cell_type": "code",
   "execution_count": null,
   "metadata": {
    "collapsed": true
   },
   "outputs": [],
   "source": []
  },
  {
   "cell_type": "code",
   "execution_count": 117,
   "metadata": {
    "collapsed": true,
    "deletable": true,
    "editable": true
   },
   "outputs": [],
   "source": [
    "#Sort Male_executives using sort_values()"
   ]
  },
  {
   "cell_type": "code",
   "execution_count": null,
   "metadata": {
    "collapsed": true
   },
   "outputs": [],
   "source": [
    "male_executives.sort_values('Salary.1', ascending = False)"
   ]
  },
  {
   "cell_type": "code",
   "execution_count": null,
   "metadata": {
    "collapsed": true
   },
   "outputs": [],
   "source": []
  },
  {
   "cell_type": "code",
   "execution_count": 116,
   "metadata": {
    "collapsed": true,
    "deletable": true,
    "editable": true
   },
   "outputs": [],
   "source": [
    "#Call Male_executives"
   ]
  },
  {
   "cell_type": "code",
   "execution_count": null,
   "metadata": {
    "collapsed": true
   },
   "outputs": [],
   "source": []
  },
  {
   "cell_type": "code",
   "execution_count": null,
   "metadata": {
    "collapsed": true
   },
   "outputs": [],
   "source": []
  },
  {
   "cell_type": "markdown",
   "metadata": {
    "deletable": true,
    "editable": true
   },
   "source": [
    "##### Create variables for the male and female executives with the highest salary"
   ]
  },
  {
   "cell_type": "code",
   "execution_count": 96,
   "metadata": {
    "collapsed": true
   },
   "outputs": [],
   "source": [
    "#highest_male = Male_executives['Salary'][0]"
   ]
  },
  {
   "cell_type": "code",
   "execution_count": null,
   "metadata": {
    "collapsed": true,
    "deletable": true,
    "editable": true
   },
   "outputs": [],
   "source": [
    "#highest_female = Female_executives['Salary.1',][0]"
   ]
  },
  {
   "cell_type": "markdown",
   "metadata": {
    "deletable": true,
    "editable": true
   },
   "source": [
    "##### Find the difference between the highest male and female salaries"
   ]
  },
  {
   "cell_type": "code",
   "execution_count": 98,
   "metadata": {
    "collapsed": true
   },
   "outputs": [
    {
     "ename": "NameError",
     "evalue": "name 'Highest_male' is not defined",
     "output_type": "error",
     "traceback": [
      "\u001b[0;31m---------------------------------------------------------------------------\u001b[0m",
      "\u001b[0;31mNameError\u001b[0m                                 Traceback (most recent call last)",
      "\u001b[0;32m<ipython-input-98-565fa37329db>\u001b[0m in \u001b[0;36m<module>\u001b[0;34m()\u001b[0m\n\u001b[0;32m----> 1\u001b[0;31m \u001b[0mDiffernce\u001b[0m \u001b[0;34m=\u001b[0m \u001b[0mHighest_male\u001b[0m \u001b[0;34m-\u001b[0m \u001b[0mHighest_female\u001b[0m\u001b[0;34m\u001b[0m\u001b[0m\n\u001b[0m",
      "\u001b[0;31mNameError\u001b[0m: name 'Highest_male' is not defined"
     ]
    }
   ],
   "source": [
    "Difference = Highest_male - Highest_female"
   ]
  },
  {
   "cell_type": "markdown",
   "metadata": {
    "deletable": true,
    "editable": true
   },
   "source": [
    "##### Use the describe method on Male_executives with respect to companies"
   ]
  },
  {
   "cell_type": "code",
   "execution_count": 100,
   "metadata": {
    "collapsed": true
   },
   "outputs": [
    {
     "data": {
      "text/plain": [
       "count           15\n",
       "unique          15\n",
       "top       Facebook\n",
       "freq             1\n",
       "Name: Company, dtype: object"
      ]
     },
     "execution_count": 100,
     "metadata": {},
     "output_type": "execute_result"
    }
   ],
   "source": [
    "male_executives['Company'].describe()"
   ]
  },
  {
   "cell_type": "markdown",
   "metadata": {
    "deletable": true,
    "editable": true
   },
   "source": [
    "##### Use boolean indexing to find the executives that work at Oracle"
   ]
  },
  {
   "cell_type": "code",
   "execution_count": 70,
   "metadata": {
    "collapsed": true,
    "deletable": true,
    "editable": true
   },
   "outputs": [],
   "source": [
    "#Which male executives work for Oracle?"
   ]
  },
  {
   "cell_type": "code",
   "execution_count": 106,
   "metadata": {
    "collapsed": true
   },
   "outputs": [
    {
     "data": {
      "text/html": [
       "<div>\n",
       "<style scoped>\n",
       "    .dataframe tbody tr th:only-of-type {\n",
       "        vertical-align: middle;\n",
       "    }\n",
       "\n",
       "    .dataframe tbody tr th {\n",
       "        vertical-align: top;\n",
       "    }\n",
       "\n",
       "    .dataframe thead th {\n",
       "        text-align: right;\n",
       "    }\n",
       "</style>\n",
       "<table border=\"1\" class=\"dataframe\">\n",
       "  <thead>\n",
       "    <tr style=\"text-align: right;\">\n",
       "      <th></th>\n",
       "      <th>Names(Men)</th>\n",
       "      <th>Company</th>\n",
       "      <th>Title</th>\n",
       "    </tr>\n",
       "  </thead>\n",
       "  <tbody>\n",
       "    <tr>\n",
       "      <th>0</th>\n",
       "      <td>NaN</td>\n",
       "      <td>Oracle</td>\n",
       "      <td>CEO, U.S. E-Commerce</td>\n",
       "    </tr>\n",
       "  </tbody>\n",
       "</table>\n",
       "</div>"
      ],
      "text/plain": [
       "   Names(Men) Company                 Title\n",
       "0         NaN  Oracle  CEO, U.S. E-Commerce"
      ]
     },
     "execution_count": 106,
     "metadata": {},
     "output_type": "execute_result"
    }
   ],
   "source": [
    "male_executives[male_executives['Company'] == 'Oracle' ] "
   ]
  },
  {
   "cell_type": "code",
   "execution_count": null,
   "metadata": {
    "collapsed": true
   },
   "outputs": [],
   "source": []
  },
  {
   "cell_type": "code",
   "execution_count": 69,
   "metadata": {
    "collapsed": false,
    "deletable": true,
    "editable": true
   },
   "outputs": [],
   "source": [
    "#How many female executives work at Oracle?"
   ]
  },
  {
   "cell_type": "code",
   "execution_count": 107,
   "metadata": {
    "collapsed": true
   },
   "outputs": [
    {
     "ename": "NameError",
     "evalue": "name 'female_executives' is not defined",
     "output_type": "error",
     "traceback": [
      "\u001b[0;31m---------------------------------------------------------------------------\u001b[0m",
      "\u001b[0;31mNameError\u001b[0m                                 Traceback (most recent call last)",
      "\u001b[0;32m<ipython-input-107-8cfdc4b32442>\u001b[0m in \u001b[0;36m<module>\u001b[0;34m()\u001b[0m\n\u001b[0;32m----> 1\u001b[0;31m \u001b[0mfemale_executives\u001b[0m\u001b[0;34m[\u001b[0m\u001b[0mfemale_executives\u001b[0m\u001b[0;34m[\u001b[0m\u001b[0;34m'Company'\u001b[0m\u001b[0;34m]\u001b[0m \u001b[0;34m==\u001b[0m \u001b[0;34m'Oracle'\u001b[0m \u001b[0;34m]\u001b[0m\u001b[0;34m\u001b[0m\u001b[0m\n\u001b[0m",
      "\u001b[0;31mNameError\u001b[0m: name 'female_executives' is not defined"
     ]
    }
   ],
   "source": [
    "female_executives[female_executives['Company'] == 'Oracle' ] "
   ]
  },
  {
   "cell_type": "markdown",
   "metadata": {
    "deletable": true,
    "editable": true
   },
   "source": [
    "##### Are there any other companies that stand-out by appearing more than once?"
   ]
  },
  {
   "cell_type": "code",
   "execution_count": 76,
   "metadata": {
    "collapsed": false,
    "deletable": true,
    "editable": true
   },
   "outputs": [],
   "source": [
    "# Use value_counts() to list distinct company names for Male_executives"
   ]
  },
  {
   "cell_type": "code",
   "execution_count": null,
   "metadata": {
    "collapsed": true
   },
   "outputs": [],
   "source": []
  },
  {
   "cell_type": "code",
   "execution_count": null,
   "metadata": {
    "collapsed": true
   },
   "outputs": [],
   "source": []
  },
  {
   "cell_type": "code",
   "execution_count": 77,
   "metadata": {
    "collapsed": true,
    "deletable": true,
    "editable": true
   },
   "outputs": [],
   "source": [
    "# Use value_counts() to list distinct company names for Female_executives"
   ]
  },
  {
   "cell_type": "code",
   "execution_count": null,
   "metadata": {
    "collapsed": true,
    "deletable": true,
    "editable": true
   },
   "outputs": [],
   "source": []
  },
  {
   "cell_type": "code",
   "execution_count": null,
   "metadata": {
    "collapsed": true,
    "deletable": true,
    "editable": true
   },
   "outputs": [],
   "source": []
  }
 ],
 "metadata": {
  "kernelspec": {
   "display_name": "Python 3",
   "language": "python",
   "name": "python3"
  },
  "language_info": {
   "codemirror_mode": {
    "name": "ipython",
    "version": 3
   },
   "file_extension": ".py",
   "mimetype": "text/x-python",
   "name": "python",
   "nbconvert_exporter": "python",
   "pygments_lexer": "ipython3",
   "version": "3.6.4"
  }
 },
 "nbformat": 4,
 "nbformat_minor": 2
}
